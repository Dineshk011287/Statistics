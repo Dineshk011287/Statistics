{
 "cells": [
  {
   "cell_type": "markdown",
   "id": "7cfb5a53",
   "metadata": {},
   "source": [
    "### What is Statistics?"
   ]
  },
  {
   "cell_type": "markdown",
   "id": "d09135ca",
   "metadata": {},
   "source": [
    " - It is the science of collecting, organising an analyzing data"
   ]
  },
  {
   "cell_type": "markdown",
   "id": "e320e114",
   "metadata": {},
   "source": [
    "### Q2. Define the different types of statistics and give an example of when each type might be used."
   ]
  },
  {
   "cell_type": "markdown",
   "id": "a4a93460",
   "metadata": {},
   "source": [
    "- There are two types of Statistics\n",
    "\n",
    "1. Descriptive Statistics: It consists of organizing and summarizing data. It has following topics:\n",
    "    a) Measure of central tendency: Mean, Medium and Mode\n",
    "    b) Measure of dispursion: Variance and Standard Deviation\n",
    "    c) Distribution of data: Histogram, PDF and CDF\n",
    "    \n",
    "2. Inferential Statistics: It consists of using data we have measured to form conclusion. It has following topics:\n",
    "    a) Z- test\n",
    "    b) t-test\n",
    "    c) CHI-Square\n",
    "    \n",
    "Example: Lets say there are 20 statistics at the college and we have collected the heights of the students in the class\n",
    "\n",
    "- We will use Descriptive Statistics when we have to calculate the avearage height of the entire high school and we will Inferential statistics we will calculate height of the students in the entire college using calculting the heights of the students in the classroom. \n"
   ]
  },
  {
   "cell_type": "markdown",
   "id": "29fcf6ef",
   "metadata": {},
   "source": [
    "### Q3. What are the different types of data and how do they differ from each other? Provide an example of each type of data."
   ]
  },
  {
   "cell_type": "markdown",
   "id": "b59d5c40",
   "metadata": {},
   "source": [
    "- There are two types of data\n",
    "1. Quantitative data \n",
    "2. Qualitative Data\n",
    "\n",
    "1. Quantitative data has two parts:\n",
    "\n",
    "    a) Discrete which are whole number or integer and has specific range. e.g: Bank account number, No. of childeren in the           family etc.\n",
    "    \n",
    "    b) Continuous which is any value or float number. e.g: Weight, height, tempearature etc.\n",
    "    \n",
    "    \n",
    "\n",
    "2. Qualitative data has two parts:\n",
    "\n",
    "    a) Nominal: It does not have rank means we can't compare it with each other e.g: Gender, Blood Group etc. \n",
    "    \n",
    "    b) Ordinal: It decides rank means compare the categories with each other. e.g: customer feedbacks (Good, bad or worst)"
   ]
  },
  {
   "cell_type": "markdown",
   "id": "6c291e2e",
   "metadata": {},
   "source": [
    "### Q4. Categorise the following datasets with respect to quantitative and qualitative data types:\n",
    "(i) Grading in exam: A+, A, B+, B, C+, C, D, E\n",
    "\n",
    "(ii) Colour of mangoes: yellow, green, orange, red\n",
    "\n",
    "(iii) Height data of a class: [178.9, 179, 179.5, 176, 177.2, 178.3, 175.8,...]\n",
    "\n",
    "(iv) Number of mangoes exported by a farm: [500, 600, 478, 672, ...]"
   ]
  },
  {
   "cell_type": "markdown",
   "id": "a9600d3b",
   "metadata": {},
   "source": [
    "Answer: \n",
    "\n",
    "1) Nominal\n",
    "\n",
    "2) Nominal\n",
    "\n",
    "3) Continuous\n",
    "\n",
    "4) Discete"
   ]
  },
  {
   "cell_type": "markdown",
   "id": "0f6048f4",
   "metadata": {},
   "source": [
    "### Q5. Explain the concept of levels of measurement and give an example of a variable for each level."
   ]
  },
  {
   "cell_type": "markdown",
   "id": "6547b07b",
   "metadata": {},
   "source": [
    "- There are 4 levels of measurement, which can be ranked from low to high:\n",
    "\n",
    "1. Nominal: the data can only be categorized.\n",
    "\n",
    "2. Ordinal: the data can be categorized and ranked.\n",
    "\n",
    "3. Interval: the data can be categorized and ranked, and evenly spaced.\n",
    "\n",
    "4. Ratio: the data can be categorized, ranked, evenly spaced and has a natural zero."
   ]
  },
  {
   "cell_type": "markdown",
   "id": "11bf0641",
   "metadata": {},
   "source": [
    "### Q6. Why is it important to understand the level of measurement when analyzing data? Provide an example to illustrate your answer."
   ]
  },
  {
   "cell_type": "markdown",
   "id": "d3ab8537",
   "metadata": {},
   "source": [
    "- Nominal: You can categorize your data by labelling them in mutually exclusive groups, but there is no order between the categories. Example: City of birth, Gender\n",
    "\n",
    "\n",
    "- Ordinal - You can categorize and rank your data in an order, but you cannot say anything about the intervals between the rankings. Although you can rank the top 5 Olympic medallists, this scale does not tell you how close or far apart they are in number of wins.\n",
    "\n",
    "\n",
    "- Interval scales: It present more information than ordinal scales in that they provide assurance that the differences between values are equal. In other words, interval scales are ordinal scales but with equivalent scale values from low to high intervals. For example, temperature measurement is an example of an interval scale: 60°C is colder than 65°C, and the temperature difference is the same as the difference between 50°C and 55°C. In other words, the difference of 5°C in both intervals shares the same interpretation and meaning.\n",
    "\n",
    "\n",
    "- Ratio scales:  It is the most informative scales. Ratio scales provide rankings, assure equal differences between scale values, and have a true zero point. In essence, a ratio scale can be thought of as nominal, ordinal, and interval scales combined as one. For example, the measurement of money is an example of a ratio scale. An individual with $0 has an absence of money. With a true zero point, it would be correct to say that someone with $100 has twice as much money as someone with $50."
   ]
  },
  {
   "cell_type": "markdown",
   "id": "1ddad453",
   "metadata": {},
   "source": [
    "### Q7. How nominal data type is different from ordinal data type."
   ]
  },
  {
   "cell_type": "markdown",
   "id": "7ec06b0e",
   "metadata": {},
   "source": [
    "- Nominal: It does not have rank means we can't compare it with each other e.g: Gender, Blood Group etc. \n",
    "    \n",
    "    \n",
    "- Ordinal: It decides rank means compare the categories with each other. e.g: customer feedbacks (Good, bad or worst)"
   ]
  },
  {
   "cell_type": "markdown",
   "id": "3912e3d0",
   "metadata": {},
   "source": [
    "### Q8. Which type of plot can be used to display data in terms of range?"
   ]
  },
  {
   "cell_type": "markdown",
   "id": "c27232d6",
   "metadata": {},
   "source": [
    "- Histograms. In a histogram, the range is the width that the bars cover along the x-axis. These are approximate values because histograms display bin values rather than raw data values. In these histograms, distribution A has an approximate range of 65 – 40 = 25 and for distribution C it is 90 – 20 = 70."
   ]
  },
  {
   "cell_type": "markdown",
   "id": "81cfa0a7",
   "metadata": {},
   "source": [
    "### Q9. Describe the difference between descriptive and inferential statistics. Give an example of each type of statistics and explain how they are used."
   ]
  },
  {
   "cell_type": "markdown",
   "id": "3c27b2b1",
   "metadata": {},
   "source": [
    "1. Descriptive Statistics: It consists of organizing and summarizing data. It has following topics:\n",
    "    a) Measure of central tendency: Mean, Medium and Mode\n",
    "    b) Measure of dispursion: Variance and Standard Deviation\n",
    "    c) Distribution of data: Histogram, PDF and CDF\n",
    "    \n",
    "2. Inferential Statistics: It consists of using data we have measured to form conclusion. It has following topics:\n",
    "    a) Z- test\n",
    "    b) t-test\n",
    "    c) CHI-Square\n",
    "    \n",
    "Example: Lets say there are 20 statistics at the college and we have collected the heights of the students in the class\n",
    "\n",
    "- We will use Descriptive Statistics when we have to calculate the avearage height of the entire high school and we will Inferential statistics we will calculate height of the students in the entire college using calculting the heights of the students in the classroom. "
   ]
  },
  {
   "cell_type": "markdown",
   "id": "2be1261c",
   "metadata": {},
   "source": [
    "### Q10. What are some common measures of central tendency and variability used in statistics? Explain how each measure can be used to describe a dataset."
   ]
  },
  {
   "cell_type": "markdown",
   "id": "19555d27",
   "metadata": {},
   "source": [
    "Common measures of central tendency:\n",
    "\n",
    "- Mean: The mean is the average of a dataset and is calculated by summing up all the values in the dataset and dividing by the number of values. It provides a measure of the central value around which the data points tend to cluster. The mean is sensitive to outliers, meaning that extreme values can significantly influence its value.\n",
    "\n",
    "\n",
    "- Median: The median is the middle value in a dataset when it is arranged in ascending or descending order. If there is an even number of data points, the median is the average of the two middle values. The median is less sensitive to outliers compared to the mean and provides a better representation of the central tendency when the data contains extreme values.\n",
    "\n",
    "\n",
    "- Mode: The mode is the value that appears most frequently in a dataset. Unlike the mean and median, the mode can be used with both numerical and categorical data. It is particularly useful for identifying the most common category or value in a dataset.\n",
    "\n",
    "\n",
    "Common measures of variability:\n",
    "\n",
    "- Range: The range is the difference between the maximum and minimum values in a dataset. It provides a simple measure of the spread or dispersion of the data. However, it is highly influenced by outliers and may not provide a reliable indication of variability in datasets with extreme values.\n",
    "\n",
    "\n",
    "- Variance: The variance measures the average squared deviation of each data point from the mean. It provides a more precise measure of variability by taking into account the spread of all data points around the mean. However, because it involves squaring the differences from the mean, it may not be directly interpretable in the original units of the data.\n",
    "\n",
    "\n",
    "- Standard Deviation: The standard deviation is the square root of the variance and measures the average distance of each data point from the mean. It provides a more intuitive measure of variability compared to variance since it is expressed in the same units as the original data. A higher standard deviation indicates greater variability in the dataset, while a lower standard deviation suggests that the data points are closer to the mean."
   ]
  },
  {
   "cell_type": "code",
   "execution_count": null,
   "id": "f47a250f",
   "metadata": {},
   "outputs": [],
   "source": []
  }
 ],
 "metadata": {
  "kernelspec": {
   "display_name": "Python 3 (ipykernel)",
   "language": "python",
   "name": "python3"
  },
  "language_info": {
   "codemirror_mode": {
    "name": "ipython",
    "version": 3
   },
   "file_extension": ".py",
   "mimetype": "text/x-python",
   "name": "python",
   "nbconvert_exporter": "python",
   "pygments_lexer": "ipython3",
   "version": "3.11.5"
  }
 },
 "nbformat": 4,
 "nbformat_minor": 5
}
